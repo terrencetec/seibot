{
 "cells": [
  {
   "cell_type": "code",
   "execution_count": 2,
   "id": "d9447a2c-554f-43bf-bdc5-ee21a160841e",
   "metadata": {},
   "outputs": [
    {
     "name": "stdout",
     "output_type": "stream",
     "text": [
      "zpk([-0.015420+i*0.025145;-0.015420+i*-0.025145;-0.258187;-0.530324;-0.494381+i*0.822530;-0.494381+i*-0.822530;-0.624739+i*0.840233;-0.624739+i*-0.840233;-1.38749;-2.22266;-2.6577;-2.341487+i*4.724950;-2.341487+i*-4.724950;-2.402901+i*4.772269;-2.402901+i*-4.772269],[-0.205614;-0.170404+i*0.210901;-0.170404+i*-0.210901;-0.429027;-0.627724;-0.611496+i*0.837925;-0.611496+i*-0.837925;-0.637900+i*0.844141;-0.637900+i*-0.844141;-2.63506;-2.67948;-2.337784+i*4.721873;-2.337784+i*-4.721873;-2.345205+i*4.728064;-2.345205+i*-4.728064],0.929931,\"s\") \n",
      "\n",
      "zpk([-0.019141+i*0.028364;-0.019141+i*-0.028364;-0.449097;-0.530292;-0.523939+i*0.838576;-0.523939+i*-0.838576;-0.728900+i*0.908958;-0.728900+i*-0.908958;-1.840257+i*0.548902;-1.840257+i*-0.548902;-2.65767;-2.341529+i*4.724953;-2.341529+i*-4.724953;-2.365643+i*4.750490;-2.365643+i*-4.750490],[-0.174564+i*0.299268;-0.174564+i*-0.299268;-0.350137;-0.501687;-0.592442;-0.714295+i*0.895915;-0.714295+i*-0.895915;-0.741111+i*0.923192;-0.741111+i*-0.923192;-2.61989;-2.69343;-2.340271+i*4.723524;-2.340271+i*-4.723524;-2.342703+i*4.726386;-2.342703+i*-4.726386],0.921925,\"s\") \n",
      "\n",
      "zpk([-0.0216176;-0.027941+i*0.033987;-0.027941+i*-0.033987;-0.530322;-0.454689+i*0.686131;-0.454689+i*-0.686131;-2.65769;-3.640439+i*2.425159;-3.640439+i*-2.425159;-4.48168;-2.377735+i*4.329071;-2.377735+i*-4.329071;-2.341486+i*4.724955;-2.341486+i*-4.724955],[-0.0264748;-0.153529+i*0.388373;-0.153529+i*-0.388373;-0.480447+i*0.315802;-0.480447+i*-0.315802;-0.781097;-2.45789;-2.88885;-4.28552;-4.63819;-2.343119+i*4.710281;-2.343119+i*-4.710281;-2.339792+i*4.739199;-2.339792+i*-4.739199],0.906981,\"s\") \n",
      "\n",
      "zpk([0;0;0],[-0.018848+i*0.000002;-0.018848+i*-0.000002;-0.018851+i*0.000002;-0.018851+i*-0.000002],1,\"s\")\n"
     ]
    }
   ],
   "source": [
    "import control\n",
    "import kontrol\n",
    "import numpy as np\n",
    "\n",
    "filters = [\"h_sc_50\", \"h_sc_75\", \"h_sc_90\"]\n",
    "prefix = \"sensor_correction_filters/ham4/\"\n",
    "suffix = \".pkl\"\n",
    "\n",
    "for filter_ in filters:\n",
    "    path = prefix + filter_ + suffix\n",
    "    f = kontrol.load_transfer_function(path)\n",
    "    print(f.foton(), \"\\n\")\n",
    "\n",
    "prefilt = kontrol.load_transfer_function(prefix+\"prefilt\"+suffix)\n",
    "# print(prefilt.foton())\n",
    "\n",
    "s = control.tf(\"s\")\n",
    "inverse = 1/s\n",
    "print(kontrol.TransferFunction((inverse*prefilt).minreal()).foton())\n"
   ]
  },
  {
   "cell_type": "code",
   "execution_count": 4,
   "id": "b2676e74-2e1d-4f5b-b8d1-9d51996e618d",
   "metadata": {},
   "outputs": [
    {
     "name": "stderr",
     "output_type": "stream",
     "text": [
      "21:55 Kontrol WARNING : The transfer function has order higher than 20. This is not supported by KAGRA's Foton software. The Foton expression is splitted into multiple expressions with less order.\n",
      "21:55 Kontrol WARNING : The transfer function has order higher than 20. This is not supported by KAGRA's Foton software. The Foton expression is splitted into multiple expressions with less order.\n"
     ]
    },
    {
     "name": "stdout",
     "output_type": "stream",
     "text": [
      "zpk([0.103431;0.018828+i*0.122785;0.018828+i*-0.122785;0.351822;0.461884;0.084249+i*-0.896139;0.084249+i*0.896139;1.06002;1.20122;1.228301+i*-0.809866;1.228301+i*0.809866;0.418418+i*-1.499247;0.418418+i*1.499247;1.323132+i*-1.222203;1.323132+i*1.222203;5.223139+i*-4.787010;5.223139+i*4.787010;42.1559;4.99012e+13],[0.035276+i*-0.103798;0.035276+i*0.103798;0.052561+i*-0.164029;0.052561+i*0.164029;0.441116;0.522916;0.672607;1.030378+i*-0.447644;1.030378+i*0.447644;1.156693+i*-0.902995;1.156693+i*0.902995;1.379876+i*-0.700381;1.379876+i*0.700381;1.56501;1.289240+i*-1.236989;1.289240+i*1.236989;1.365986+i*-1.218038;1.365986+i*1.218038;200.981],0.617101,\"n\")\n",
      "\n",
      "zpk([0.00237355;0.002798+i*0.000724;0.002798+i*-0.000724;0.0042069;0.008960+i*0.001120;0.008960+i*-0.001120;0.0155225;0.006078+i*0.017629;0.006078+i*-0.017629;0.006292+i*0.019152;0.006292+i*-0.019152;0.018498+i*0.009533;0.018498+i*-0.009533;0.070055+i*0.076616;0.070055+i*-0.076616],[0.002996+i*0.000004;0.002996+i*-0.000004;0.003004+i*0.000004;0.003004+i*-0.000004;0.010056;0.0100943;0.0146798;0.0150554;0.006510+i*0.018439;0.006510+i*-0.018439;0.006459+i*0.018517;0.006459+i*-0.018517;0.049634;0.038235+i*0.042173;0.038235+i*-0.042173],1.62041,\"n\") \n",
      "\n",
      "\n",
      "\n",
      "zpk([0.018940+i*-0.129887;0.018940+i*0.129887;0.074527+i*-0.111192;0.074527+i*0.111192;0.353058;0.461884;0.097423+i*-0.884588;0.097423+i*0.884588;1.086614+i*-0.033731;1.086614+i*0.033731;1.230172+i*-0.812758;1.230172+i*0.812758;0.425615+i*-1.512381;0.425615+i*1.512381;1.410207+i*-1.498159;1.410207+i*1.498159;5.079437+i*-5.467512;5.079437+i*5.467512;17.8778;1.36364e+13],[0.031411+i*-0.116381;0.031411+i*0.116381;0.038347+i*-0.158397;0.038347+i*0.158397;0.444947;0.502111;0.728774;1.043547+i*-0.350853;1.043547+i*0.350853;1.45036;1.187144+i*-0.862720;1.187144+i*0.862720;1.299324+i*0.765142;1.299324+i*-0.765142;1.398060+i*-1.494904;1.398060+i*1.494904;1.422997+i*-1.502007;1.422997+i*1.502007;23.9821],0.566509,\"n\")\n",
      "\n",
      "zpk([0.00251091;0.002902+i*0.000550;0.002902+i*-0.000550;0.00373339;0.00885131;0.0115671;0.0137713;0.006265+i*0.017988;0.006265+i*-0.017988;0.006196+i*0.018765;0.006196+i*-0.018765;0.017929+i*0.009601;0.017929+i*-0.009601;0.0701215],[0.002993+i*0.000007;0.002993+i*-0.000007;0.003007+i*0.000007;0.003007+i*-0.000007;0.0105566;0.0106186;0.0146307;0.0150986;0.006514+i*0.018437;0.006514+i*-0.018437;0.006456+i*0.018520;0.006456+i*-0.018520;0.0445508;0.040547+i*0.040077;0.040547+i*-0.040077],1.76518,\"n\") \n",
      "\n",
      "\n",
      "\n"
     ]
    }
   ],
   "source": [
    "filters = [\"h1_10\", \"h1_25\"]#, \"h1_50\", \"h1_75\", \"h1_90\", \"h1_95\", \"h1_99\"]\n",
    "prefix = \"complementary_filters/ham4/\"\n",
    "suffix = \".pkl\"\n",
    "\n",
    "for filter_ in filters:\n",
    "    path = prefix + filter_ + suffix\n",
    "    f = kontrol.load_transfer_function(path)\n",
    "    print(f.foton(root_location=\"n\"), \"\\n\")\n",
    "    print(\"\\n\")\n",
    "\n",
    "# prefilt = kontrol.load_transfer_function(prefix+\"prefilt\"+suffix)\n",
    "# # print(prefilt.foton())\n",
    "\n",
    "# s = control.tf(\"s\")\n",
    "# inverse = 1/s\n",
    "# print(kontrol.TransferFunction((inverse*prefilt).minreal()).foton())"
   ]
  },
  {
   "cell_type": "code",
   "execution_count": 5,
   "id": "bcc36c81-afcf-402e-a694-c1c2f240eae4",
   "metadata": {},
   "outputs": [
    {
     "name": "stderr",
     "output_type": "stream",
     "text": [
      "22:02 Kontrol WARNING : The transfer function has order higher than 20. This is not supported by KAGRA's Foton software. The Foton expression is splitted into multiple expressions with less order.\n",
      "22:02 Kontrol WARNING : The transfer function has order higher than 20. This is not supported by KAGRA's Foton software. The Foton expression is splitted into multiple expressions with less order.\n"
     ]
    },
    {
     "name": "stdout",
     "output_type": "stream",
     "text": [
      "zpk([0.0754806;0.055229+i*0.090007;0.055229+i*-0.090007;0.021566+i*-0.142509;0.021566+i*0.142509;0.391612;0.464888;0.594431+i*-0.666239;0.594431+i*0.666239;1;1.25491;1.228534+i*0.816627;1.228534+i*-0.816627;1.070168+i*-1.386823;1.070168+i*1.386823;1.323476+i*-1.221051;1.323476+i*1.221051;2.093299+i*-1.017253;2.093299+i*1.017253;200.921],[0.035276+i*-0.103798;0.035276+i*0.103798;0.052561+i*-0.164029;0.052561+i*0.164029;0.441116;0.522916;0.672607;1.030378+i*-0.447644;1.030378+i*0.447644;1.156693+i*-0.902995;1.156693+i*0.902995;1.379876+i*-0.700381;1.379876+i*0.700381;1.56501;1.289240+i*-1.236989;1.289240+i*1.236989;1.365986+i*-1.218038;1.365986+i*1.218038;200.981],0.389469,\"n\")\n",
      "\n",
      "zpk([0.00107684;0.00212655;0.000778+i*0.002974;0.000778+i*-0.002974;0.0100733;0.0148771;0.007571+i*0.015741;0.007571+i*-0.015741;0.006490+i*0.018479;0.006490+i*-0.018479],[0.010056;0.0100943;0.0146798;0.0150554;0.006510+i*0.018439;0.006510+i*-0.018439;0.006459+i*0.018517;0.006459+i*-0.018517;0.049634;0.038235+i*0.042173;0.038235+i*-0.042173],0.000113862,\"n\") \n",
      "\n",
      "\n",
      "\n",
      "zpk([0.0610499;0.051621+i*0.110938;0.051621+i*-0.110938;0.021566+i*-0.142509;0.021566+i*0.142509;0.395818;0.464888;0.639977+i*-0.642428;0.639977+i*0.642428;1;1.17115;1.228534+i*0.816627;1.228534+i*-0.816627;1.164695+i*-1.487415;1.164695+i*1.487415;1.410738+i*-1.497963;1.410738+i*1.497963;1.990567+i*-1.117131;1.990567+i*1.117131;23.9776],[0.031411+i*-0.116381;0.031411+i*0.116381;0.038347+i*-0.158397;0.038347+i*0.158397;0.444947;0.502111;0.728774;1.043547+i*-0.350853;1.043547+i*0.350853;1.45036;1.187144+i*-0.862720;1.187144+i*0.862720;1.299324+i*0.765142;1.299324+i*-0.765142;1.398060+i*-1.494904;1.398060+i*1.494904;1.422997+i*-1.502007;1.422997+i*1.502007;23.9821],0.373335,\"n\")\n",
      "\n",
      "zpk([0.00107711;0.0025975;0.000778+i*0.002974;0.000778+i*-0.002974;0.0105834;0.0148804;0.007571+i*0.015741;0.007571+i*-0.015741;0.006490+i*0.018479;0.006490+i*-0.018479],[0.0105566;0.0106186;0.0146307;0.0150986;0.006514+i*0.018437;0.006514+i*-0.018437;0.006456+i*0.018520;0.006456+i*-0.018520;0.0445508;0.040547+i*0.040077;0.040547+i*-0.040077],0.000147104,\"n\") \n",
      "\n",
      "\n",
      "\n",
      "zpk([0;-4.442883+i*4.442883;-4.442883+i*-4.442883],[-0.018848+i*0.000002;-0.018848+i*-0.000002;-0.018851+i*0.000002;-0.018851+i*-0.000002],1,\"s\")\n"
     ]
    }
   ],
   "source": [
    "filters = [\"h2_10\", \"h2_25\",]#\"h2_50\", \"h2_75\", \"h2_90\", \"h2_95\", \"h2_99\"]\n",
    "prefix = \"complementary_filters/ham4/\"\n",
    "suffix = \".pkl\"\n",
    "\n",
    "for filter_ in filters:\n",
    "    path = prefix + filter_ + suffix\n",
    "    f = kontrol.load_transfer_function(path)\n",
    "    print(f.foton(root_location=\"n\"), \"\\n\")\n",
    "    print(\"\\n\")\n",
    "\n",
    "prefilt = kontrol.load_transfer_function(prefix+\"h2_prefilt\"+suffix)\n",
    "# print(prefilt.foton())\n",
    "\n",
    "s = control.tf(\"s\")\n",
    "wn = 1*2*np.pi\n",
    "q = 1/np.sqrt(2)\n",
    "inverse = (s**2 + wn/q*s + wn**2) / s**3\n",
    "print(kontrol.TransferFunction((inverse*prefilt).minreal()).foton())"
   ]
  },
  {
   "cell_type": "code",
   "execution_count": 30,
   "id": "dc82db21-ee34-4cb7-b992-bac33ff643ca",
   "metadata": {},
   "outputs": [
    {
     "data": {
      "text/plain": [
       "[<matplotlib.lines.Line2D at 0x7ea002b862b0>]"
      ]
     },
     "execution_count": 30,
     "metadata": {},
     "output_type": "execute_result"
    },
    {
     "data": {
      "image/png": "[encoded data removed]",
      "text/plain": [
       "<Figure size 640x480 with 1 Axes>"
      ]
     },
     "metadata": {},
     "output_type": "display_data"
    }
   ],
   "source": [
    "import matplotlib.pyplot as plt\n",
    "\n",
    "a = kontrol.load_transfer_function(prefix+\"h2_50\"+suffix)\n",
    "f = np.logspace(-3, 2, 1024)\n",
    "\n",
    "plt.loglog(f, abs(a(1j*2*np.pi*f)))"
   ]
  },
  {
   "cell_type": "code",
   "execution_count": 20,
   "id": "77186818-69ca-4f1a-a7ba-82f072d6b494",
   "metadata": {},
   "outputs": [
    {
     "data": {
      "text/latex": [
       "$$\\frac{1.332 \\times 10^{-15} s^{15} + 0.1903 s^{14} + 52.98 s^{13} + 3886 s^{12} + 1.524 \\times 10^{5} s^{11} + 2.836 \\times 10^{6} s^{10} + 3.657 \\times 10^{7} s^9 + 3.41 \\times 10^{8} s^8 + 2.193 \\times 10^{9} s^7 + 1.043 \\times 10^{10} s^6 + 3.581 \\times 10^{10} s^5 + 6.913 \\times 10^{10} s^4 + 6.846 \\times 10^{10} s^3 + 4.391 \\times 10^{10} s^2 + 1.155 \\times 10^{10} s + 1.735 \\times 10^{8}}{s^{15} + 432.4 s^{14} + 2.541 \\times 10^{4} s^{13} + 7.628 \\times 10^{5} s^{12} + 1.438 \\times 10^{7} s^{11} + 1.831 \\times 10^{8} s^{10} + 1.616 \\times 10^{9} s^9 + 9.853 \\times 10^{9} s^8 + 4.031 \\times 10^{10} s^7 + 1.056 \\times 10^{11} s^6 + 1.695 \\times 10^{11} s^5 + 1.746 \\times 10^{11} s^4 + 1.362 \\times 10^{11} s^3 + 6.114 \\times 10^{10} s^2 + 1.552 \\times 10^{10} s + 1.74 \\times 10^{9}}$$"
      ],
      "text/plain": [
       "TransferFunction(array([1.33226763e-15, 1.90261066e-01, 5.29753451e+01, 3.88636061e+03,\n",
       "       1.52382902e+05, 2.83643274e+06, 3.65745421e+07, 3.41004947e+08,\n",
       "       2.19266751e+09, 1.04337068e+10, 3.58093407e+10, 6.91296992e+10,\n",
       "       6.84585547e+10, 4.39122583e+10, 1.15481472e+10, 1.73506403e+08]), array([1.00000000e+00, 4.32410237e+02, 2.54098022e+04, 7.62845383e+05,\n",
       "       1.43772099e+07, 1.83056892e+08, 1.61620739e+09, 9.85288567e+09,\n",
       "       4.03077561e+10, 1.05586027e+11, 1.69489346e+11, 1.74598621e+11,\n",
       "       1.36246204e+11, 6.11403956e+10, 1.55210039e+10, 1.74014057e+09]))"
      ]
     },
     "execution_count": 20,
     "metadata": {},
     "output_type": "execute_result"
    }
   ],
   "source": []
  }
 ],
 "metadata": {
  "kernelspec": {
   "display_name": "Python 3 (ipykernel)",
   "language": "python",
   "name": "python3"
  },
  "language_info": {
   "codemirror_mode": {
    "name": "ipython",
    "version": 3
   },
   "file_extension": ".py",
   "mimetype": "text/x-python",
   "name": "python",
   "nbconvert_exporter": "python",
   "pygments_lexer": "ipython3",
   "version": "3.9.19"
  }
 },
 "nbformat": 4,
 "nbformat_minor": 5
}
